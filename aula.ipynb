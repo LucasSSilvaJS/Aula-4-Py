{
 "cells": [
  {
   "cell_type": "code",
   "execution_count": 6,
   "metadata": {},
   "outputs": [
    {
     "name": "stdout",
     "output_type": "stream",
     "text": [
      "Estamos no elemento 1\n",
      "Estamos no elemento 2\n",
      "Estamos no elemento 3\n",
      "Estamos no elemento 4\n",
      "Estamos no elemento 5\n",
      "Estamos no elemento 6\n"
     ]
    }
   ],
   "source": [
    "for elemento in [1,2,3,4,5,6]:\n",
    "    print('Estamos no elemento', elemento)"
   ]
  },
  {
   "cell_type": "code",
   "execution_count": 7,
   "metadata": {},
   "outputs": [
    {
     "name": "stdout",
     "output_type": "stream",
     "text": [
      "Estamos no elemento S\n",
      "Estamos no elemento T\n",
      "Estamos no elemento R\n",
      "Estamos no elemento I\n",
      "Estamos no elemento N\n",
      "Estamos no elemento G\n"
     ]
    }
   ],
   "source": [
    "for elemento in 'STRING':\n",
    "    print('Estamos no elemento', elemento)"
   ]
  },
  {
   "cell_type": "code",
   "execution_count": 8,
   "metadata": {},
   "outputs": [
    {
     "name": "stdout",
     "output_type": "stream",
     "text": [
      "estamos no elemento 0\n",
      "estamos no elemento 1\n",
      "estamos no elemento 2\n",
      "estamos no elemento 3\n",
      "estamos no elemento 4\n",
      "estamos no elemento 5\n"
     ]
    }
   ],
   "source": [
    "for elemento in range(len('String')):\n",
    "    print('estamos no elemento', elemento)"
   ]
  },
  {
   "cell_type": "code",
   "execution_count": 12,
   "metadata": {},
   "outputs": [
    {
     "name": "stdout",
     "output_type": "stream",
     "text": [
      "estamos no elemento 0\n",
      "estamos no elemento 1\n",
      "estamos no elemento 2\n",
      "estamos no elemento 3\n",
      "estamos no elemento 4\n",
      "estamos no elemento 5\n",
      "estamos no elemento 6\n"
     ]
    }
   ],
   "source": [
    "elemento = 0\n",
    "\n",
    "while elemento <= len([1,2,3,4,5,6]):\n",
    "    print('estamos no elemento', elemento)\n",
    "    elemento += 1"
   ]
  },
  {
   "cell_type": "code",
   "execution_count": 13,
   "metadata": {},
   "outputs": [
    {
     "name": "stdout",
     "output_type": "stream",
     "text": [
      "Estamos no elemento S\n",
      "Estamos no elemento T\n",
      "Estamos no elemento R\n",
      "Estamos no elemento I\n",
      "Estamos no elemento N\n",
      "Estamos no elemento G\n"
     ]
    }
   ],
   "source": [
    "s = 'STRING'\n",
    "indice = 0\n",
    "\n",
    "while indice in range(len(s)):\n",
    "    print('Estamos no elemento', s[indice])\n",
    "    indice += 1"
   ]
  },
  {
   "cell_type": "code",
   "execution_count": 18,
   "metadata": {},
   "outputs": [
    {
     "name": "stdout",
     "output_type": "stream",
     "text": [
      "0 t\n",
      "1 r\n",
      "2 a\n",
      "3 n\n",
      "4 q\n",
      "5 u\n",
      "6 i\n",
      "7 l\n",
      "8 o\n"
     ]
    }
   ],
   "source": [
    "palavra = 'tranquilo'\n",
    "for indice, letra in enumerate(palavra):\n",
    "    print(indice, letra)"
   ]
  },
  {
   "cell_type": "code",
   "execution_count": 32,
   "metadata": {},
   "outputs": [
    {
     "name": "stdout",
     "output_type": "stream",
     "text": [
      "<enumerate object at 0x000002794F55C600>\n",
      "<enumerate object at 0x000002794F497B00>\n",
      "Tipo: <class 'enumerate'>\n",
      "[(0, 'eat'), (1, 'sleep'), (2, 'repeat')]\n",
      "[(2, 'g'), (3, 'e'), (4, 'e'), (5, 'k')]\n"
     ]
    }
   ],
   "source": [
    "lista = ['eat', 'sleep', 'repeat']\n",
    "palavra = 'geek'\n",
    "\n",
    "objeto1 = enumerate(lista)\n",
    "objeto2 = enumerate(palavra)\n",
    "\n",
    "print(objeto1)\n",
    "print(objeto2)\n",
    "\n",
    "print('Tipo:', type(objeto1))\n",
    "print(list(enumerate(lista)))\n",
    "\n",
    "print(list(enumerate(palavra, 2)))"
   ]
  },
  {
   "cell_type": "code",
   "execution_count": 33,
   "metadata": {},
   "outputs": [
    {
     "name": "stdout",
     "output_type": "stream",
     "text": [
      "oi\n",
      "oi\n",
      "oi\n",
      "oi\n",
      "oi\n",
      "oi\n",
      "oi\n",
      "oi\n",
      "oi\n",
      "oi\n",
      "oi\n",
      "oi\n",
      "oi\n"
     ]
    }
   ],
   "source": [
    "s = 'viva o python'\n",
    "\n",
    "for ch in s:\n",
    "    print('oi')"
   ]
  },
  {
   "cell_type": "code",
   "execution_count": 36,
   "metadata": {},
   "outputs": [
    {
     "name": "stdout",
     "output_type": "stream",
     "text": [
      "Oi\n",
      "Oi\n",
      "Oi\n",
      "Oi\n",
      "Oi\n"
     ]
    }
   ],
   "source": [
    "s = 'viva o python'\n",
    "for ch in s[3:8]:\n",
    "    print('Oi')"
   ]
  },
  {
   "cell_type": "code",
   "execution_count": 41,
   "metadata": {},
   "outputs": [
    {
     "name": "stdout",
     "output_type": "stream",
     "text": [
      "Quantidade de numeros pares: 4\n",
      "Quantidade de numeros impares: 6\n"
     ]
    }
   ],
   "source": [
    "# numeros = list(range(10))\n",
    "numeros = [None]*10\n",
    "pares = 0\n",
    "impares = 0\n",
    "\n",
    "for i in range(10):\n",
    "    numeros[i] = int(input('Digite um número:'))\n",
    "    if(numeros[i] % 2 == 0):\n",
    "        pares += 1\n",
    "    else:\n",
    "        impares += 1\n",
    "\n",
    "print('Quantidade de numeros pares:', pares)\n",
    "print('Quantidade de numeros impares:', impares)"
   ]
  }
 ],
 "metadata": {
  "kernelspec": {
   "display_name": "Python 3",
   "language": "python",
   "name": "python3"
  },
  "language_info": {
   "codemirror_mode": {
    "name": "ipython",
    "version": 3
   },
   "file_extension": ".py",
   "mimetype": "text/x-python",
   "name": "python",
   "nbconvert_exporter": "python",
   "pygments_lexer": "ipython3",
   "version": "3.9.13"
  }
 },
 "nbformat": 4,
 "nbformat_minor": 2
}
